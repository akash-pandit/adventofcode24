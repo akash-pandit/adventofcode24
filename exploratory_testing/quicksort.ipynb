{
 "cells": [
  {
   "cell_type": "code",
   "execution_count": 32,
   "metadata": {},
   "outputs": [],
   "source": [
    "def qsort(arr: list[int], low: int, high: int):\n",
    "    # get pivot\n",
    "    pivot = arr[high]\n",
    "    j, i = low, low-1\n",
    "    \n",
    "    # find final pivot resting place\n",
    "    while j < high:\n",
    "        if arr[j] < pivot:\n",
    "            i += 1\n",
    "            arr[i], arr[j] = arr[j], arr[i]\n",
    "        j += 1\n",
    "    \n",
    "    # move pivot\n",
    "    i += 1\n",
    "    arr[i], arr[high] = arr[high], arr[i]\n",
    "    print(arr)\n",
    "    print(arr[:i], i-1)\n",
    "    # apply qsort recursively to halves\n",
    "    if i - 1 < 0:\n",
    "        return\n",
    "    qsort(arr=arr[:i], low=0, high=i-1)\n",
    "    qsort(arr=arr[i+1:], low=i, high=len(arr[i+1:])-1)"
   ]
  },
  {
   "cell_type": "code",
   "execution_count": 33,
   "metadata": {},
   "outputs": [
    {
     "name": "stdout",
     "output_type": "stream",
     "text": [
      "[8, 2, 4, 7, 1, 3, 9, 6, 5]\n",
      "[2, 4, 1, 3, 5, 7, 9, 6, 8]\n",
      "[2, 4, 1, 3] 3\n",
      "[2, 1, 3, 4]\n",
      "[2, 1] 1\n",
      "[1, 2]\n",
      "[] -1\n"
     ]
    },
    {
     "ename": "IndexError",
     "evalue": "list index out of range",
     "output_type": "error",
     "traceback": [
      "\u001b[0;31m---------------------------------------------------------------------------\u001b[0m",
      "\u001b[0;31mIndexError\u001b[0m                                Traceback (most recent call last)",
      "Cell \u001b[0;32mIn[33], line 3\u001b[0m\n\u001b[1;32m      1\u001b[0m arr \u001b[38;5;241m=\u001b[39m [\u001b[38;5;241m8\u001b[39m, \u001b[38;5;241m2\u001b[39m, \u001b[38;5;241m4\u001b[39m, \u001b[38;5;241m7\u001b[39m, \u001b[38;5;241m1\u001b[39m, \u001b[38;5;241m3\u001b[39m, \u001b[38;5;241m9\u001b[39m, \u001b[38;5;241m6\u001b[39m, \u001b[38;5;241m5\u001b[39m]\n\u001b[1;32m      2\u001b[0m \u001b[38;5;28mprint\u001b[39m(arr)\n\u001b[0;32m----> 3\u001b[0m \u001b[43mqsort\u001b[49m\u001b[43m(\u001b[49m\u001b[43marr\u001b[49m\u001b[43m,\u001b[49m\u001b[43m \u001b[49m\u001b[38;5;241;43m0\u001b[39;49m\u001b[43m,\u001b[49m\u001b[43m \u001b[49m\u001b[38;5;28;43mlen\u001b[39;49m\u001b[43m(\u001b[49m\u001b[43marr\u001b[49m\u001b[43m)\u001b[49m\u001b[38;5;241;43m-\u001b[39;49m\u001b[38;5;241;43m1\u001b[39;49m\u001b[43m)\u001b[49m\n\u001b[1;32m      4\u001b[0m arr\n",
      "Cell \u001b[0;32mIn[32], line 21\u001b[0m, in \u001b[0;36mqsort\u001b[0;34m(arr, low, high)\u001b[0m\n\u001b[1;32m     19\u001b[0m \u001b[38;5;28;01mif\u001b[39;00m i \u001b[38;5;241m-\u001b[39m \u001b[38;5;241m1\u001b[39m \u001b[38;5;241m<\u001b[39m \u001b[38;5;241m0\u001b[39m:\n\u001b[1;32m     20\u001b[0m     \u001b[38;5;28;01mreturn\u001b[39;00m\n\u001b[0;32m---> 21\u001b[0m \u001b[43mqsort\u001b[49m\u001b[43m(\u001b[49m\u001b[43marr\u001b[49m\u001b[38;5;241;43m=\u001b[39;49m\u001b[43marr\u001b[49m\u001b[43m[\u001b[49m\u001b[43m:\u001b[49m\u001b[43mi\u001b[49m\u001b[43m]\u001b[49m\u001b[43m,\u001b[49m\u001b[43m \u001b[49m\u001b[43mlow\u001b[49m\u001b[38;5;241;43m=\u001b[39;49m\u001b[38;5;241;43m0\u001b[39;49m\u001b[43m,\u001b[49m\u001b[43m \u001b[49m\u001b[43mhigh\u001b[49m\u001b[38;5;241;43m=\u001b[39;49m\u001b[43mi\u001b[49m\u001b[38;5;241;43m-\u001b[39;49m\u001b[38;5;241;43m1\u001b[39;49m\u001b[43m)\u001b[49m\n\u001b[1;32m     22\u001b[0m qsort(arr\u001b[38;5;241m=\u001b[39marr[i\u001b[38;5;241m+\u001b[39m\u001b[38;5;241m1\u001b[39m:], low\u001b[38;5;241m=\u001b[39mi, high\u001b[38;5;241m=\u001b[39m\u001b[38;5;28mlen\u001b[39m(arr[i\u001b[38;5;241m+\u001b[39m\u001b[38;5;241m1\u001b[39m:])\u001b[38;5;241m-\u001b[39m\u001b[38;5;241m1\u001b[39m)\n",
      "Cell \u001b[0;32mIn[32], line 22\u001b[0m, in \u001b[0;36mqsort\u001b[0;34m(arr, low, high)\u001b[0m\n\u001b[1;32m     20\u001b[0m     \u001b[38;5;28;01mreturn\u001b[39;00m\n\u001b[1;32m     21\u001b[0m qsort(arr\u001b[38;5;241m=\u001b[39marr[:i], low\u001b[38;5;241m=\u001b[39m\u001b[38;5;241m0\u001b[39m, high\u001b[38;5;241m=\u001b[39mi\u001b[38;5;241m-\u001b[39m\u001b[38;5;241m1\u001b[39m)\n\u001b[0;32m---> 22\u001b[0m \u001b[43mqsort\u001b[49m\u001b[43m(\u001b[49m\u001b[43marr\u001b[49m\u001b[38;5;241;43m=\u001b[39;49m\u001b[43marr\u001b[49m\u001b[43m[\u001b[49m\u001b[43mi\u001b[49m\u001b[38;5;241;43m+\u001b[39;49m\u001b[38;5;241;43m1\u001b[39;49m\u001b[43m:\u001b[49m\u001b[43m]\u001b[49m\u001b[43m,\u001b[49m\u001b[43m \u001b[49m\u001b[43mlow\u001b[49m\u001b[38;5;241;43m=\u001b[39;49m\u001b[43mi\u001b[49m\u001b[43m,\u001b[49m\u001b[43m \u001b[49m\u001b[43mhigh\u001b[49m\u001b[38;5;241;43m=\u001b[39;49m\u001b[38;5;28;43mlen\u001b[39;49m\u001b[43m(\u001b[49m\u001b[43marr\u001b[49m\u001b[43m[\u001b[49m\u001b[43mi\u001b[49m\u001b[38;5;241;43m+\u001b[39;49m\u001b[38;5;241;43m1\u001b[39;49m\u001b[43m:\u001b[49m\u001b[43m]\u001b[49m\u001b[43m)\u001b[49m\u001b[38;5;241;43m-\u001b[39;49m\u001b[38;5;241;43m1\u001b[39;49m\u001b[43m)\u001b[49m\n",
      "Cell \u001b[0;32mIn[32], line 15\u001b[0m, in \u001b[0;36mqsort\u001b[0;34m(arr, low, high)\u001b[0m\n\u001b[1;32m     13\u001b[0m \u001b[38;5;66;03m# move pivot\u001b[39;00m\n\u001b[1;32m     14\u001b[0m i \u001b[38;5;241m+\u001b[39m\u001b[38;5;241m=\u001b[39m \u001b[38;5;241m1\u001b[39m\n\u001b[0;32m---> 15\u001b[0m arr[i], arr[high] \u001b[38;5;241m=\u001b[39m arr[high], \u001b[43marr\u001b[49m\u001b[43m[\u001b[49m\u001b[43mi\u001b[49m\u001b[43m]\u001b[49m\n\u001b[1;32m     16\u001b[0m \u001b[38;5;28mprint\u001b[39m(arr)\n\u001b[1;32m     17\u001b[0m \u001b[38;5;28mprint\u001b[39m(arr[:i], i\u001b[38;5;241m-\u001b[39m\u001b[38;5;241m1\u001b[39m)\n",
      "\u001b[0;31mIndexError\u001b[0m: list index out of range"
     ]
    }
   ],
   "source": [
    "arr = [8, 2, 4, 7, 1, 3, 9, 6, 5]\n",
    "print(arr)\n",
    "qsort(arr, 0, len(arr)-1)\n",
    "arr"
   ]
  },
  {
   "cell_type": "code",
   "execution_count": 4,
   "metadata": {},
   "outputs": [
    {
     "name": "stdout",
     "output_type": "stream",
     "text": [
      "[2, 4, 3, 1, 3, 3]\n",
      "[2, 1, 3, 4, 3, 3]\n",
      "[2, 1, 3, 4, 3, 3]\n",
      "2\n",
      "[1, 2, 3, 4, 3, 3]\n",
      "0\n",
      "[1, 2, 3, 3, 3, 4]\n",
      "3\n",
      "[1, 2, 3, 3, 3, 4]\n",
      "[1, 2, 3, 3, 3, 4]\n",
      "5\n"
     ]
    }
   ],
   "source": [
    "def partition(arr, low, high):\n",
    "    pivot = arr[high]\n",
    "    movIdx, lagIdx = low, low-1\n",
    "    \n",
    "    while movIdx < high:\n",
    "        if arr[movIdx] < pivot:\n",
    "            lagIdx += 1\n",
    "            arr[movIdx], arr[lagIdx] = arr[lagIdx], arr[movIdx]\n",
    "            print(arr)\n",
    "        movIdx += 1\n",
    "        \n",
    "    lagIdx += 1\n",
    "    arr[high], arr[lagIdx] = arr[lagIdx], arr[high]\n",
    "    print(arr)\n",
    "    return lagIdx\n",
    "\n",
    "def quickSort(arr, low, high):\n",
    "    if low < high:\n",
    "        partIdx = partition(arr, low, high)\n",
    "        print(partIdx)\n",
    "        \n",
    "        quickSort(arr, low, partIdx-1)\n",
    "        quickSort(arr, partIdx + 1, high)\n",
    "\n",
    "arr = [8, 2, 4, 7, 1, 3, 9, 6, 5]\n",
    "arr = [3, 4, 2, 1, 3, 3]\n",
    "quickSort(arr, 0, len(arr)-1)"
   ]
  },
  {
   "cell_type": "code",
   "execution_count": 6,
   "metadata": {},
   "outputs": [
    {
     "data": {
      "text/plain": [
       "1530215"
      ]
     },
     "execution_count": 6,
     "metadata": {},
     "output_type": "execute_result"
    }
   ],
   "source": [
    "import pandas as pd\n",
    "\n",
    "data = pd.read_csv('../data/day1.tsv', delimiter='   ', engine='python', names=['col1', 'col2'])\n",
    "list1 = sorted(data['col1'].to_list())\n",
    "list2 = sorted(data['col2'].to_list())\n",
    "\n",
    "total = 0\n",
    "for i in range(len(list1)):\n",
    "    total += abs(list1[i] - list2[i])\n",
    "\n",
    "total"
   ]
  }
 ],
 "metadata": {
  "kernelspec": {
   "display_name": "Python 3",
   "language": "python",
   "name": "python3"
  },
  "language_info": {
   "codemirror_mode": {
    "name": "ipython",
    "version": 3
   },
   "file_extension": ".py",
   "mimetype": "text/x-python",
   "name": "python",
   "nbconvert_exporter": "python",
   "pygments_lexer": "ipython3",
   "version": "3.10.12"
  }
 },
 "nbformat": 4,
 "nbformat_minor": 2
}
